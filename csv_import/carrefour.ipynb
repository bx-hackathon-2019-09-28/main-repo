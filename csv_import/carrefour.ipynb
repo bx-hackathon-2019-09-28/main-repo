{
 "cells": [
  {
   "cell_type": "code",
   "execution_count": 1,
   "metadata": {},
   "outputs": [
    {
     "name": "stdout",
     "output_type": "stream",
     "text": [
      "Python: 3.7.3 (default, Mar 27 2019, 16:54:48) \n",
      "[Clang 4.0.1 (tags/RELEASE_401/final)]\n",
      "scipy: 1.3.0\n"
     ]
    },
    {
     "ename": "NameError",
     "evalue": "name 'numpy' is not defined",
     "output_type": "error",
     "traceback": [
      "\u001b[0;31m---------------------------------------------------------------------------\u001b[0m",
      "\u001b[0;31mNameError\u001b[0m                                 Traceback (most recent call last)",
      "\u001b[0;32m<ipython-input-1-d3c5168889ee>\u001b[0m in \u001b[0;36m<module>\u001b[0;34m\u001b[0m\n\u001b[1;32m      6\u001b[0m \u001b[0;31m# numpy\u001b[0m\u001b[0;34m\u001b[0m\u001b[0;34m\u001b[0m\u001b[0;34m\u001b[0m\u001b[0m\n\u001b[1;32m      7\u001b[0m \u001b[0;32mimport\u001b[0m \u001b[0mnumpy\u001b[0m \u001b[0;32mas\u001b[0m \u001b[0mnp\u001b[0m\u001b[0;34m\u001b[0m\u001b[0;34m\u001b[0m\u001b[0m\n\u001b[0;32m----> 8\u001b[0;31m \u001b[0mprint\u001b[0m\u001b[0;34m(\u001b[0m\u001b[0;34m'numpy: {}'\u001b[0m\u001b[0;34m.\u001b[0m\u001b[0mformat\u001b[0m\u001b[0;34m(\u001b[0m\u001b[0mnumpy\u001b[0m\u001b[0;34m.\u001b[0m\u001b[0m__version__\u001b[0m\u001b[0;34m)\u001b[0m\u001b[0;34m)\u001b[0m\u001b[0;34m\u001b[0m\u001b[0;34m\u001b[0m\u001b[0m\n\u001b[0m\u001b[1;32m      9\u001b[0m \u001b[0;31m# matplotlib\u001b[0m\u001b[0;34m\u001b[0m\u001b[0;34m\u001b[0m\u001b[0;34m\u001b[0m\u001b[0m\n\u001b[1;32m     10\u001b[0m \u001b[0;32mimport\u001b[0m \u001b[0mmatplotlib\u001b[0m\u001b[0;34m\u001b[0m\u001b[0;34m\u001b[0m\u001b[0m\n",
      "\u001b[0;31mNameError\u001b[0m: name 'numpy' is not defined"
     ]
    }
   ],
   "source": [
    "import sys\n",
    "print('Python: {}'.format(sys.version))\n",
    "# scipy\n",
    "import scipy\n",
    "print('scipy: {}'.format(scipy.__version__))\n",
    "# numpy\n",
    "import numpy as np\n",
    "print('numpy: {}'.format(numpy.__version__))\n",
    "# matplotlib\n",
    "import matplotlib\n",
    "print('matplotlib: {}'.format(matplotlib.__version__))\n",
    "# pandas\n",
    "import pandas\n",
    "print('pandas: {}'.format(pandas.__version__))\n",
    "# scikit-learn\n",
    "import sklearn\n",
    "print('sklearn: {}'.format(sklearn.__version__))\n",
    "import copy\n",
    "#print('copy: {}'.format(copy.__version__))\n",
    "\n"
   ]
  },
  {
   "cell_type": "code",
   "execution_count": null,
   "metadata": {},
   "outputs": [],
   "source": [
    "import pandas\n",
    "import collections\n",
    "from pandas.plotting import scatter_matrix\n",
    "import matplotlib.pyplot as plt\n",
    "from sklearn import model_selection\n",
    "from sklearn.metrics import classification_report\n",
    "from sklearn.metrics import confusion_matrix\n",
    "from sklearn.metrics import accuracy_score\n",
    "from sklearn.linear_model import LogisticRegression\n",
    "from sklearn.tree import DecisionTreeClassifier\n",
    "from sklearn.neighbors import KNeighborsClassifier\n",
    "from sklearn.discriminant_analysis import LinearDiscriminantAnalysis\n",
    "from sklearn.naive_bayes import GaussianNB\n",
    "from sklearn.svm import SVC"
   ]
  },
  {
   "cell_type": "code",
   "execution_count": null,
   "metadata": {},
   "outputs": [],
   "source": [
    "dataset = pandas.read_csv('dataset/REF_PRODUIT_TAGS_train.csv',sep='|')\n",
    "\n",
    "\n",
    "def strtolist(s):\n",
    "    s = s.strip(\"[]\")\n",
    "    s = s.split(',')\n",
    "    return s\n",
    "\n",
    "def get_tags(dataset):\n",
    "    dic = collections.defaultdict(int)\n",
    "    for x in dataset['tags']:\n",
    "        new_list = strtolist(x)\n",
    "        for tag in new_list:\n",
    "            dic[tag] += 1\n",
    "    return dic\n",
    "tags = get_tags(dataset)\n",
    "\n",
    "\n",
    "\n",
    "\n",
    "dataset"
   ]
  },
  {
   "cell_type": "code",
   "execution_count": null,
   "metadata": {},
   "outputs": [],
   "source": [
    "def more_rec(dic,n):\n",
    "    sorted_dic = sorted(dic.items(), key=lambda kv: kv[1],reverse=True) \n",
    "    return sorted_dic[:100], sorted_dic[100:]\n",
    "tags_to_keep, tags_to_remove = more_rec(tags,100)\n",
    "tags_to_keep = [i[0] for i in tags_to_keep]\n",
    "tags_to_remove = [i[0] for i in tags_to_remove]"
   ]
  },
  {
   "cell_type": "code",
   "execution_count": null,
   "metadata": {},
   "outputs": [],
   "source": []
  },
  {
   "cell_type": "code",
   "execution_count": null,
   "metadata": {},
   "outputs": [],
   "source": [
    "def sanitize_tags(dataset,tags_to_remove, tags_to_keep):\n",
    "    new_dataset = dataset.copy()\n",
    "    empty = 0\n",
    "    for i in range(dataset.shape[0]):\n",
    "        ith_element = new_dataset[\"tags\"][i]\n",
    "#         deleted =[]\n",
    "        l = strtolist(ith_element)\n",
    "        l1 = list(l)\n",
    "        for x in l1:\n",
    "            if x in tags_to_remove:\n",
    "                l.remove(x)\n",
    "        if len(l) == 0:\n",
    "#             deleted.append(ith_element)\n",
    "#             new_dataset.drop(dataset.index[i])\n",
    "#             print(new_dataset.shape[0])\n",
    "            new_dataset.at[i,'tags'] = None\n",
    "            empty += 1\n",
    "        else:\n",
    "            l = [tags_to_keep.index(x) for x in l]\n",
    "            new_dataset.at[i,'tags'] = l\n",
    "    \n",
    "    return new_dataset.dropna(), empty#,deleted\n",
    "\n",
    "new_dataset, empty = sanitize_tags(dataset, tags_to_remove, tags_to_keep)\n",
    "new_dataset.dropna()\n"
   ]
  },
  {
   "cell_type": "code",
   "execution_count": null,
   "metadata": {},
   "outputs": [],
   "source": [
    "{x for x in new_dataset[\"SEG_REF_CAPA_TYPE\"]}"
   ]
  },
  {
   "cell_type": "code",
   "execution_count": null,
   "metadata": {},
   "outputs": [],
   "source": [
    "new_dataset.shape[0]"
   ]
  },
  {
   "cell_type": "code",
   "execution_count": null,
   "metadata": {},
   "outputs": [],
   "source": [
    "from collections import Counter\n",
    "\n",
    "# dataset = pandas.read_csv('dataset/REF_PRODUIT_TAGS_train.csv',sep='|')\n",
    "def have_rayon(dataset):\n",
    "    rayon_type = Counter(dataset['Rayon'])\n",
    "    rayon_list = list(dict(rayon_type).keys())\n",
    "    products = []\n",
    "    for element in dataset['Rayon']:\n",
    "        temp = []\n",
    "        for ele in rayon_list:\n",
    "            if ele == element:\n",
    "                temp.append(1)\n",
    "            else:\n",
    "                temp.append(0)\n",
    "        products.append(temp)\n",
    "    return products\n",
    "\n",
    "\n",
    "def extract(dataset):    \n",
    "    useful_data_info = ['Rayon', 'Famille', 'SEG_REF_CAPA_TYPE', \n",
    "                        'SANS_SUCRE', 'PORC', 'SANS_GLUTEN', 'BIO', 'HALAL', 'CASHER']\n",
    "\n",
    "    products = [None] * len(dataset['Rayon'])\n",
    "    for i in range(len(products)):\n",
    "        products[i] = []\n",
    "\n",
    "    for info in useful_data_info[:]:\n",
    "        count = Counter(dataset[info])\n",
    "        list_ = list(dict(count).keys())\n",
    "\n",
    "        temp_count = 0\n",
    "        for element in dataset[info]:\n",
    "            temp = []\n",
    "            \n",
    "            for i in range(len(list_)):\n",
    "                if list_[i] == element:\n",
    "                    temp.append(i)\n",
    "                    \n",
    "            products[temp_count] = products[temp_count] + temp\n",
    "            \n",
    "            temp_count += 1\n",
    "    \n",
    "    return products\n",
    "\n",
    "\n",
    "features = extract(new_dataset)\n",
    "output = [x for x in new_dataset[\"tags\"]]\n"
   ]
  },
  {
   "cell_type": "code",
   "execution_count": null,
   "metadata": {},
   "outputs": [],
   "source": [
    "from sklearn.preprocessing import MultiLabelBinarizer\n",
    "from sklearn import datasets\n",
    "from sklearn.multiclass import OneVsRestClassifier\n",
    "from sklearn.svm import LinearSVC\n",
    "from sklearn import preprocessing\n",
    "\n",
    "new_output = MultiLabelBinarizer().fit_transform(output)\n",
    "\n",
    "features\n"
   ]
  },
  {
   "cell_type": "code",
   "execution_count": null,
   "metadata": {},
   "outputs": [],
   "source": []
  }
 ],
 "metadata": {
  "kernelspec": {
   "display_name": "Python 3",
   "language": "python",
   "name": "python3"
  },
  "language_info": {
   "codemirror_mode": {
    "name": "ipython",
    "version": 3
   },
   "file_extension": ".py",
   "mimetype": "text/x-python",
   "name": "python",
   "nbconvert_exporter": "python",
   "pygments_lexer": "ipython3",
   "version": "3.7.3"
  }
 },
 "nbformat": 4,
 "nbformat_minor": 2
}
